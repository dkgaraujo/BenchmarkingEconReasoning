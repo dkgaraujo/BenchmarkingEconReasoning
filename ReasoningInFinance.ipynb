{
 "cells": [
  {
   "cell_type": "raw",
   "metadata": {},
   "source": [
    "---\n",
    "title: \"Information acquisition in financial markets through artificial intelligence (Early stage work)\"\n",
    "author:\n",
    "    name:  \"Douglas K. G. Araujo\"\n",
    "    email: \"douglas.araujo@bis.org\"\n",
    "    affiliations:  \"Bank for International Settlements\"\n",
    "thanks: \"This work represents my opinion and not necessarily that of the BIS.\"\n",
    "abstract: \"Investors choose the level of costly deployment of artificial intelligence (AI) models, such as large language models, to better extract signal about fundamentals from a noisy and multidimensional common data space. The monotonically increasing technology evolves over time but both this evolution and the actual adoption depends on the use of scarce resources, mimicking constraints in human resources and parallel computing. Investors decide to invest on a risky asset with strategic complementarities on information and on the level of technology adoption by peers. The model features the possibility of hallucinations or other silent mistakes in information processing. The model is simple but allows inference on important topics related to the adoption of AI in finance, including the effect of hallucinations on the coordination of investors, the role of a closed versus open AI model, the potentially outsized effects of cyber security or other operational risk incidents, and supply chain shocks in the AI chip industry. JEL codes: D82, G14.\"\n",
    "format:\n",
    "    pdf:\n",
    "        keep-tex: true\n",
    "        template-partials: \n",
    "            - title.tex\n",
    "        include-in-header:\n",
    "            text: |\n",
    "                \\usepackage{algpseudocode}\n",
    "                \\usepackage{algorithm}\n",
    "                \\usepackage[noblocks]\n",
    "                {authblk}\n",
    "                \\renewcommand*{\\Authsep}{, }\n",
    "                \\renewcommand*{\\Authand}{, }\n",
    "                \\renewcommand*{\\Authands}{, }\n",
    "                \\renewcommand\\Affilfont{\\small}\n",
    "                \\DeclareMathOperator*{\\argmin}{arg\\,min}\n",
    "        number-sections: true\n",
    "bibliography: \"ref.bib\"\n",
    "execute:\n",
    "    echo: false\n",
    "    warning: false\n",
    "    error: false\n",
    "    cache: true\n",
    "    freeze: auto\n",
    "---"
   ]
  },
  {
   "cell_type": "markdown",
   "metadata": {},
   "source": [
    "# Introduction"
   ]
  },
  {
   "cell_type": "markdown",
   "metadata": {},
   "source": [
    "The increasing capabilities of large language models (LLM) and modern artificial intelligence (AI) systems more generally unlock useful new ways to transform data into actionable information, expanding the \"data envelope\" (@hirshlelfer1971private, @goldfarb2019digital). These sophisticated models have been posited to be useful even for forecasting and stock trading (eg, @lopez2023can), adding further momentum to the use of these technologies. Clearly, more advanced AI models are able to transform more data into information, improving the precision of a signal. But other key, specific features of AI as an information technology require new modelling tools that are not found in existing frameworks of endogenous information acquisition in incomplete games (eg, @hellwig2009knowing, @yang2015coordination, @szkup2015informationgg). First, AI models can also output erroneous content that may be hard to identify, such as seemingly-correct \"hallucinations\" (@alkaissi2023artificial, @ji2023survey), an issue that is compounded by the inescrutable nature of these models. For example, LLMs might provide human-like answers that fail to correctly identify trivial aspects of tasks (@perez2024testing). Second, the AI technology is still evolving at a fast pace (eg, @yang2023harnessing), which itself might change the information acquisition calculation of agents as they expect a certain chance that current models will be nondecreasingly more powerful. In this paper, the AI resources not used by agents is made available to technologists, who then try to improve AI technology subject to resource availability. All of this on top of the usually modelled costs to acquire information, which in this case represent the limited AI-specific resources such as skilled labour force and adequate chips that are limited.\n",
    "\n",
    "The main contribution of this paper is to set up a simple but flexible model of endogenous information acquisiton under incomplete information, subject to bias in the private signal (from the \"AI hallucinations\") and to stochastic technological breakthrough that improves the model's reasoning, tapering the hallucinations. Other than these AI-specific parameterisations, the model follows a standard information acquisition model that can be solved as a global game (@carlsson1993global, @morris2003global), yielding a symmetric, unique equilibrium outcome. This baseline model is used to show that the equilibrium choices of AI resource take-up by investors facing a risky payoff are consistent with the level of AI that minimises bias in the private signal. In other words, investors invest the \"right\" amount in AI for their application at hand, even if the investment decision itself is risk- and not payoff-dominant (@harsanyi1988general). \n",
    "\n",
    "The baseline 2-investor game plays out in two stages. In the *AI investment* stage, each investor $i$ chooses how much of their endowment $E$ will be allocated to acquiring AI-related resources (eg, skilled practitioners, graphics processing unit chips - GPU) from a limited pool $R$. The remainder after the investors decide their AI investment is available to technologists, and will influence technological development: $R = R_{AI} + \\sum_i R_i$. Next, the *financial investment* stage entails a binary investment decision on the remainder of the endowment, $I_i = E - R_i$. The payoff depends on an unobserved state $\\theta$ and, for intermediate levels of the fundamental outcome, on coordination between investors. These decisions are taken after each investor observes a private signal that depends non-linearly on the level of AI investment: higher AI amounts increase precision in the private signal, but expose the investor to AI hallucinations. These latter elements are additive biases in the private signal that behave exponentially, like a \"hockey stick\" line, kicking off strongly at high levels of AI adoption. A final unknown component in the model is the degree of technological advance in between stages. Technologists take the remainer of the resources, $R_{AI}$, and use it to implement research ideas that are compared with obstacles. Whenever these are net positive, the hallucinations taper off. This represents for example advances in reasoning ability (@Araujo2024reason) or in fine-tuning to make models.\n",
    "\n",
    "A unique value of AI investment minimises the bias in the private signal, ie optimally balances the hallucination with the precision-increasing effects of greater investment in AI. Interestingly, even as the equilibrium definition is not conditional on an optimal first-stage allocation, this happens to be the value that is consistent with the second-stage equilibrium. The model is simple enough to represent the main dynamics of investors' indirect acquisition of information through their investment in AI. At the same time, it contains rich enough representations that allow the study of questions of interest. In this paper I explore three of them. First, the baseline specification speaks to AI's ability to reason. One of the extensions, studying the effect of an eventual much-hyped artificial general intelligence (AGI), simply involves turning off the hallucination. The third extension addresses current policy and academic discussions around the wisedom of openly available versus closed models. Secondly, the model can be slightly adapted to study the potentially outsized effects of cyber security or other operational risk incidents, including issues related to AI vendor concentration."
   ]
  },
  {
   "cell_type": "markdown",
   "metadata": {},
   "source": [
    "## Literature"
   ]
  },
  {
   "cell_type": "markdown",
   "metadata": {},
   "source": [
    "This work relates to the literatures on information acquisition in incomplete information games, and on AI and data in finance. The class of global games models address incomplete information settings @carlsson1993global. @morris2002social, @morris2003global. A second stream of papers related to this work discuss endogenous information acquisition, similar to the current paper. **Coordination with information acquisition**. @angeletos2016incomplete, @szkup2015informationgg, @szkup2015informationtr, @szkup2021information. @reshidi2021individual study the individual and collective information acquisition. Technology adoption canonical model @techadoption. Private aquisition of information (processing), @hellwig2009knowing and @colombo2014information. @colombo2014information highlights the difference between effiencies in information acquisition and its usage. In contrast with that literature, here the AI technology frontier also develops endogenously and responds (negatively) to the resource take-up from technology adoption. \n",
    "\n",
    "Another stream of papers discusses **data in finance**: @farboodi2022has models the extraction  by investors of *information* on assets from *data*, and how the value of data is related also to characteristics of the asset itself. @begenau2018big argues that the existence of more data to larger firms favours them over others. And a more specific line of works examines **AI in finance, including associated risks.** AI can read information better (@araujo2023data, @araujo2024artificial), and especially the more sophisticated type of models - large language models (LLMs) can further increase the ability to use data (@korinek2023gen). @lopez2023can show evidence that ChatGPT, the flagship LLM, can successfully pick stocks. @danielsson2022artificial discuss risks. Increased availability of data (@veldkamp2019data) and lower cost across data pipeline (@goldfarb2019digital). This facilitates the use of new data, or data in a compound way, due to the \"discovery\" of new data by newer technologies @hirshlelfer1971private. An early reference is @ranco2015effects. New techniques not only process more data more effectively, but they also expand the envelope of data that can be analysed to look for signal."
   ]
  },
  {
   "cell_type": "markdown",
   "metadata": {},
   "source": [
    "# Model"
   ]
  },
  {
   "cell_type": "markdown",
   "metadata": {},
   "source": [
    "The model draws heavily from the setup in @szkup2021information, with important additions that represent key features of AI as an information technology. Second, the technology itself evolves stochastically over time, including in response to factor prices as well. And third, the process by which AI improves the signal is laid out in more detail to highlight the cases where the technology can transform more data text into inormation but cannot yet *reason* about it. "
   ]
  },
  {
   "cell_type": "markdown",
   "metadata": {},
   "source": [
    "## Setup"
   ]
  },
  {
   "cell_type": "markdown",
   "metadata": {},
   "source": [
    "The simplest version of the model is a two-investor setup as follows."
   ]
  },
  {
   "cell_type": "markdown",
   "metadata": {},
   "source": [
    "The state of economic fundamentals is a random variable with normal distribution $\\theta \\sim N(\\mu_\\theta, \\sigma_\\theta^2)$. $\\theta$ is only observed indirectly by each investor $i$ as a noisy signal, $x_i = \\theta + \\sigma_i \\epsilon_i$. An AI technology $\\alpha(R) > 0$ uses finite specialised resources $R$ (eg, AI scientists, data engineers, graphics processing units chips - GPUs, etc) to improve the precision of the signal of the existing data. The total amount of these resources is divided into AI developers and the investors: $R = R_{\\text{AI}} + \\sum_{i} R_i$ for $R_{\\text{AI}} > 0$ and $\\forall R_i \\geq 0$. The technology has decreasing returns to scale with $\\alpha_R' > 0, \\alpha_R'' < 0$, and each individual precision defined as $\\sigma_i = \\sigma / \\alpha(R_i)$. $\\alpha$ itself is common amongst players, reflecting the current relevance of open source and open weight models in the high end AI market. However, section @sec-closedmodels relaxes this definition so that investors can also purchase a unique $\\alpha_i$ technology.\n",
    "\n",
    "However, unless the AI model can actually reason, very precise signals (low $\\sigma_i$) also increase the risk of belieavable wrong answers (such as \"hallucinations\") or other forms of \"silent mistakes\", which bias the investor's perception about fundamentals. Such a problem is of course compounded by the high confidence the investor has in the signal given its acquired low $\\sigma_i$. This is modelled through a *reasoning filter* $\\phi$ (see @sec-reasoning). This function is the identity function if the AI cannot reason and 0 if it can reason. Having $\\eta \\sim N(0, \\sigma_\\eta)$ as the baseline level of noise[^manifold] for all private signals, then each investor will observe $\\epsilon_i = \\eta + \\phi(e^{\\lambda \\alpha_i(R)})$, in which $\\lambda$ is an inconsequential positive constant for scaling only. Putting all of this together, the private signal about the fundamentals is:\n",
    "\n",
    "$$\n",
    "x_i = \\theta + (\\eta + \\phi(e^{\\lambda \\alpha(R_i)})) \\sigma / \\alpha(R_i)\n",
    "$$ {#eq-privatesignals}\n",
    "\n",
    "[^manifold]: Reflecting, for example, technology frictions in the production and dissemination of data, or more fundamentally even the sparsity in the actual signal from the manifold hypothesis."
   ]
  },
  {
   "cell_type": "markdown",
   "metadata": {},
   "source": [
    "Given this scenario for technology investment, two ex ante identical investors $i \\in \\{1,2\\}$ choose how much $R_i$ to acquire. Because resources are finite and technologists pick up the residual resources not acquired by investors, the investors face a supply curve and the technologists are assumed for simplicity to be price takers. Given this structure, prices are normalised as the proportion of resources taken by investors, $\\rho = (1/R)\\sum_i R_i$.[^priceprop]. The prices are public information and the market for AI resources clear.\n",
    "\n",
    "[^priceprop]: The actual prices could be proportional to this ratio, but the added clutter to notation does not justify it."
   ]
  },
  {
   "cell_type": "markdown",
   "metadata": {},
   "source": [
    "The two investors decide in the first stage how much of their endowment to invest in AI usage, with the remainder available for the next stage where they decide whether or not to invest, $a_i \\in \\{0, 1\\}$. This equality is represented as $E_i = R_i + I_i$. In the second period, the investors decide how to allocate $I_i$, in a safe or risky asset (the allocation is binary). The safe asset does not have a cost, and yields zero regardless of $\\theta$ or the number of investors who choose it. Conversely, the risk asset's payoff can be successful in either of the following situations: (a) if $\\theta \\geq \\bar{\\theta}$ or (b) if $\\theta \\geq \\underline{\\theta}$ and $A_i = A_j = 1$. While this payoff structure follows @szkup2021information closely, the current model differs from that one because investors only allocates $I_i$. Because investing in the risky asset entails a cost $T$, the risky asset yields $\\theta I_i - T$ in case of success or alternatively, $-T$. "
   ]
  },
  {
   "cell_type": "markdown",
   "metadata": {},
   "source": [
    "Each investor's choice $a_i$ depends on the observed signal $x_i$ and the level of use of AI chosen in the preceding step, $R_i$. As in @szkup2021information, the level of precision (from the investment in AI resources) is common knowledge in this simple game, but here it is only incidentally so: this settings comports only two investors and a common price that reflects their joint AI investments.[^chall] Each investor's utility is a mapping of the form $u : \\{0, 1\\} \\times \\{0, 1\\} \\times \\mathbf{R} \\times [0, 1] \\to \\mathbf{R}$, with $u(A_i, A_j, x_i, R_i)$ representing investor $i$'s pay-off as a function of their own action, the other investor's action, the signal observed by $i$, and its investment in the AI technology.\n",
    "\n",
    "In concrete terms,\n",
    "\n",
    "$$\n",
    "u(A_i, A_j, x_i, R_i) = (\\mathbf{1}[\\theta \\geq \\bar{\\theta}|x_i] + \\mathbf{1}[x_i \\geq x_i^*|\\theta]a_j)a_i(\\theta I_i - T) - R_i,\n",
    "$$ {#eq-utility}\n",
    "\n",
    "from which the indifference threshold with respect to investing or not investing depending on the signal is set. [to add, equilibrium]\n",
    "\n",
    "[^chall]: A richer setting would see not only more investors, including atomic ones, but also have only the global AI resource expense be public, not its distribution to investors. The type of challenge it would bring to the current model includes for example a non-trivial correlation between the use of AI and the perceived signal. This interesting case demands a dedicated exposition and not further dealt with in this paper."
   ]
  },
  {
   "cell_type": "markdown",
   "metadata": {},
   "source": [
    "Innovations in AI reasoning happen in between periods: after investors have decided $\\rho$, the remainder $R_{\\text{AI}}$ determines the probability of a major breakthrough in reasoning ability. This is modelled as follows.[^orthog] Two independent random draws from U(0, 1), $\\pi_{\\text{idea}}, \\pi_{\\text{obstacle}}$, correspond respectively to innovative ideas and to practical obstacles to innovation related to those ideas. The idea requires resources for implementation, and thus a technological advance only happens if the idea, once actually implemented, overcomes the barrier to innovation. Formally:\n",
    "\n",
    "$$\n",
    "\\phi = 1-\\text{max}(0, \\underbrace{\\pi_{\\text{idea}} * (1-\\rho)}_{\\text{Implemented idea}} - \\pi_{\\text{obstacle}}).\n",
    "$$ {#eq-tech}\n",
    "\n",
    "$\\phi$ tapers off the noisiness to help the private signal get closer to $\\theta + \\eta$. Note that the only chance of a full shutdown of the added noise by the AI model - for example, through the concept of *artificial generalised intelligence*, is ruled out and would require all of the AI-related resources to the technologists only. \n",
    "\n",
    "[^orthog]: Recall that $\\phi$ determines the reasoning ability in a way that is orthogonal to model performance."
   ]
  },
  {
   "cell_type": "markdown",
   "metadata": {},
   "source": [
    "One important observation about the effect of AI on financial investments is consistent with a classical result in the global games literature (@morris2002social, @morris2003global): the price $\\rho$ of AI resources has an outsized impact on outcomes by virtue of its public nature."
   ]
  },
  {
   "cell_type": "markdown",
   "metadata": {},
   "source": [
    "## Equilibrium in financial and AI investments"
   ]
  },
  {
   "cell_type": "markdown",
   "metadata": {},
   "source": [
    "After the decisions to invest in AI is taken, the second stage involves an investment in the financial asset. This step resembles a traditional global game (@morris2003global), but where players choose the precision of their own information as in, for example, @yang2015coordination, @szkup2021information. The tendency of the game to a unique outcome, due to the limit uniqueness (@frankel2003equilibrium)."
   ]
  },
  {
   "cell_type": "markdown",
   "metadata": {},
   "source": [
    "First, note there is exactly one value of $\\alpha(R_i)$ that results in an minimally biased private signal.\n",
    "\n",
    "::: {#prp-alphainvestlowestbias}\n",
    "\n",
    "## AI use with minimal bias in private signal\n",
    "\n",
    "There is only one specific value $\\alpha^* = \\alpha(R^*)$ for which the private signal is the closest to $\\theta$ in expectation. The subscript is irrelevant because all investors are ex ante similar.\n",
    ":::\n",
    "\n",
    "::: {.proof}\n",
    "The first order condition only holds for one value of $\\alpha > 0$. Starting with the first derivative, \n",
    "$$\n",
    "\\frac{d}{d \\alpha^*} (\\eta + \\phi e^{\\lambda \\alpha^*}) \\sigma / \\alpha^* = 0\n",
    "$$\n",
    "\n",
    "the expression can be manipulated to facilitate isolating $\\alpha^*$ in the numerator to the left side:\n",
    "\n",
    "$$\n",
    "\\frac{\\phi \\lambda e^{\\lambda \\alpha^*} \\sigma}{\\alpha^*} - \\frac{\\phi e^{\\lambda \\alpha^*}\\sigma}{(\\alpha^*)^2} = \\frac{\\eta \\sigma}{(\\alpha^*)^2}.\n",
    "$$\n",
    "\n",
    "Multiplying both sides by $(\\alpha^*)^2$ obtains\n",
    "\n",
    "$$\n",
    "\\alpha^* \\lambda \\phi e^{\\lambda \\alpha^*} \\sigma - \\phi e^{\\lambda \\alpha^*}\\sigma = \\eta \\sigma,\n",
    "$$\n",
    "\n",
    "which is the same as\n",
    "\n",
    "$$\n",
    "\\phi e^{\\lambda \\alpha^*} (\\lambda \\alpha^* - 1)= \\eta,\n",
    "$$\n",
    "\n",
    "and thus if $\\phi > 0$, the only possible solution with a positive value is $\\alpha^* = 1/\\lambda$.\n",
    "\n",
    "The second derivative obtained by substituting this equality above is positive, confirming that $\\alpha^*$ minimises the bias on the signal.\n",
    "\n",
    "$$\n",
    "\\frac{d^2}{d (1/\\lambda)^2} (\\eta + \\phi e) \\sigma \\lambda = (\\sigma \\lambda^2 \\phi e + \\sigma \\lambda \\phi e)\\lambda^3 \\\\\n",
    "$$\n",
    ":::"
   ]
  },
  {
   "cell_type": "markdown",
   "metadata": {},
   "source": [
    "@prp-alphainvestlowestbias highlights the problem with AI investment as a technology to process information: optimising on precision alone (lowering $\\sigma_i$) exposes the investors to more biases in the signal at very high levels of technology adoption. Higher levels of $R_i$ monotonically increase precision but there is only one level of $R$ that minimises bias in information."
   ]
  },
  {
   "cell_type": "markdown",
   "metadata": {},
   "source": [
    "Note also that it seems to be a repetition of the classical bias-variance trade-off (BVTO) but it is in fact a different phenomenon. BVTO implies that more flexible and complex models would lead to lower bias and high out-of-sample variance, as more sophisticated models obtain a better fit to existing data at the risk of not generalising too well. The current setting shines a light on a different problem that incorporates economic and information- and game-theoretic elements: even if the model obtains lower variance by usefully increasing out-of-sample precision (real life examples include the ability to digest unstructured data such as text to improve signal pickup), the fact it *can* hallucinate and at the same time is increasingly trusted both by its practicality and precision, introduces uncertainty in the model."
   ]
  },
  {
   "cell_type": "markdown",
   "metadata": {},
   "source": [
    "# Equilibrium"
   ]
  },
  {
   "cell_type": "markdown",
   "metadata": {},
   "source": [
    "Note that similar to @szkup2021information, the investment stage can resemble a global game, only with investors that are potentially heterogeneous on their private signals. So I follow standard practice in global games and find the equilibrium strategies based on a signal $x_i^*(R_i)$ that would lie at the investment indifference threshold for investor $i$:"
   ]
  },
  {
   "cell_type": "markdown",
   "metadata": {},
   "source": [
    "$$\n",
    "A(R_i, x_i) = \\mathbf{1}[x_i \\geq x_i^*(R_i)].\n",
    "$$"
   ]
  },
  {
   "cell_type": "markdown",
   "metadata": {},
   "source": [
    "Finding this threshold entails equating @eq-utility with zero under the investment scenario, ie $A(R_i, x_i)=1$, and then solving for $x_i^*(R_i)$:"
   ]
  },
  {
   "cell_type": "markdown",
   "metadata": {},
   "source": [
    "$$\n",
    "E[Pr(A_j(\\theta)=1)\\theta I_i | x_i = x_i^*, \\theta \\in [\\underline{\\theta}, \\bar{\\theta}] ] + E[\\theta I_i |x_i = x_i^*, \\theta > \\bar{\\theta} ] = T,\n",
    "$$ {#eq-equilinvest}"
   ]
  },
  {
   "cell_type": "markdown",
   "metadata": {},
   "source": [
    "where $E[Pr(A_j(\\theta)=1)]$ is the expected (by $i$) probability that $j$ has invested in the asset given the fundamental. The first term on the left is the expected success payout in the intermediate fundamentals case, which requires coordination. The second term is the expected success in the good fundamentals scenario."
   ]
  },
  {
   "cell_type": "markdown",
   "metadata": {},
   "source": [
    "The equilibrium is due to @szkup2021information, who extend the monotone supermodular games result from @van2007monotone in games with unbounded utility functions. In particular, @szkup2021information show that there exist both a least and a greatest bounds in Bayesian Nash equilibra, and that these thresholds correspond to a univalent mapping to a unique outcome."
   ]
  },
  {
   "cell_type": "markdown",
   "metadata": {},
   "source": [
    "# Equilibrium"
   ]
  },
  {
   "cell_type": "markdown",
   "metadata": {},
   "source": [
    "The equilibrium is found by backward induction, starting with the financial investment stage. Collect the allocations of $R$ in $r=\\{R_i, R_j, R_{AI}\\}$. Investor strategies $A : \\mathbb{R} \\times [0,1]^3 \\times (0,1]\\to \\{0,1\\}$ map the private signal, the allocation $r$ and the AI reasoning ability $\\phi$ to a binary investment decision, where $1$ is associated with the investing choice. Using the global games' threshold strategies and the uniquess of equilibrium outcomes due to @szkup2021information extending the results from @van2007monotone, the investor decides to invest if the private signal is higher than a specific threshold, as in\n",
    "\n",
    "$$\n",
    "A(x_i;r;\\phi) = \\mathbf{1}[x_i \\geq x_i^*(r, \\phi)].\n",
    "$$ {#eq-strategies}"
   ]
  },
  {
   "cell_type": "markdown",
   "metadata": {},
   "source": [
    "The value $x_i^*$ in @eq-strategies that makes the investor indifferent to investing or not investing is the optimal threshold. The following specification considers both the scenario in which fundamentals are intermediate and the investment requires coordination, and the scenario in which fundamentals are good enough that success does not necessitate coordination. The equation"
   ]
  },
  {
   "cell_type": "markdown",
   "metadata": {},
   "source": [
    "$$\n",
    "E[\\theta I_i \\text{Pr}(A_j(\\theta) = 1)|x_i = x_i^*, \\theta \\in [\\underline{\\theta}, \\bar{\\theta})] + E[\\theta I_i|x_i = x_i^*, \\theta \\geq \\bar{\\theta}] = T\n",
    "$$ {#eq-optimthresh}"
   ]
  },
  {
   "cell_type": "markdown",
   "metadata": {},
   "source": [
    "represents the situation where the expected payoff of an $I_i$ investment is set to zero. Now moving backwards to the AI investment stage, consider $\\nu_i(\\cdot)$ as the expected investment payoff to $i$ afer observing their own private signal $x_i$ and believing that investor $j$ will also optimise. Consider also a belief function $\\mu_i : [0, 1] \\to [0, 1]$ as $i$'s belief on the probability that $j$ chose a specific value of $R_j$. In general terms, the expected utility of each investor is:\n",
    "\n",
    "$$\n",
    "U_i(r) = E[\\mathbf{1}[x_i \\geq x_i^*(e, \\phi)] \\nu_i(x_i, xj^*(r, \\phi); r)]f(x_i;R_i, \\phi)dx_i.\n",
    "$$ {#eq-expectedutil}"
   ]
  },
  {
   "cell_type": "markdown",
   "metadata": {},
   "source": [
    "All elements to define the equilibrium are now in place."
   ]
  },
  {
   "cell_type": "markdown",
   "metadata": {},
   "source": [
    "::: {#def-equilibrium}\n",
    "\n",
    "## Pure strategy Bayesian Nash equilibrium\n",
    "\n",
    "A vector of AI investment allocations $r^* = \\{R_i^*, R_j^*, R_{AI}^*\\}$, belief function $\\mu_i$, and optimal financial investment decision $A_i(x_i;r;\\phi)$ is a pure streategy Bayesian Nash equilibrium if, for each $i \\in \\{1,2\\}$, it complies with the conditions below:\n",
    "\n",
    "**C1 - no incentives to deviate**. $U_i(r^*) \\geq U_i(r') \\forall r' \\neq r^*$,\n",
    "\n",
    "**C2 - correct strategic anticipation**. $\\mu_i(R_j^*)=1, \\mu_i(R_j^{'}) = 0, r' \\neq r^*$; and\n",
    "\n",
    "**C3 - optimal financial investment even if sub-optimal AI investment**.\n",
    "\n",
    "$$\n",
    "A(x_i;r;\\phi) = \\mathbf{1}[x_i \\geq x_i(\\{R_i, R_j^*, R_{AI}\\}, \\phi)], \\text{s.t.  }\n",
    "$$\n",
    "$$\n",
    "x_i^* \\in \\{x_i : \\nu(x_i(\\{R_i, R_j^*, R_{AI}\\}, \\phi), x_j^*(r^*, \\phi); r) = 0 \\}\n",
    "$$\n",
    ":::"
   ]
  },
  {
   "cell_type": "markdown",
   "metadata": {},
   "source": [
    "The first condition, C1, lays out that no investor has an incentive to deviate from the equilibrium because they will not extract a higher utility. C2 is necessary to ensure that the equiibrium obtains from a situation that each investor assigns positive probability to the amounts of AI investment that the other investor would choose. And the third condition pins down the idea that the signal threshold associated with the investment action can also be associated with of each investors' own AI investment that is not necessarily the optimal."
   ]
  },
  {
   "cell_type": "markdown",
   "metadata": {},
   "source": [
    "::: {#prp-equilibrium}\n",
    "\n",
    "## Equilibrium\n",
    "\n",
    "The equilibrium as defined in @def-equilibrium exists and is unique.\n",
    ":::"
   ]
  },
  {
   "cell_type": "markdown",
   "metadata": {},
   "source": [
    "## Information-efficient use of AI"
   ]
  },
  {
   "cell_type": "markdown",
   "metadata": {},
   "source": [
    "In the base scenario that AI models do not reason robustly, they always let at least *some* hallucination pass through ($\\phi > 0$). A natural question is whether the value of AI investment that minimises bias in the private signal (from @prp-alphainvestlowestbias) is consistent with the equilibrium outcomes. The following exercise focuses on the case of intermediate fundamental values, as they require coordination for success."
   ]
  },
  {
   "cell_type": "markdown",
   "metadata": {},
   "source": [
    "Define $r^§ = \\{R_i^§, R_j^*, R_{AI}^§\\}$ as a the AI investment by investor $i$ driven only by their need to optimise the private signal, while $j$ continues to allocate their investment according to the full-game perspective. Assume C2 and C3 of @def-equilibrium hold. Then it suffices to check if C1 still holds, but with $r^§$. In particular, whether:\n",
    "\n",
    "$$\n",
    "E[\\theta I_i^§ \\text{Pr}(A_j(\\theta)=1) | x_i = x_i*, \\theta \\in [\\underline{\\theta}, \\bar{\\theta})]] = E[\\theta I_j^* \\text{Pr}(A_i(\\theta)=1) | x_j = x_j*, \\theta \\in [\\underline{\\theta}, \\bar{\\theta})]].\n",
    "$$\n",
    "\n",
    "Factoring out the common expectation components related to $\\theta$, we have:\n",
    "\n",
    "$$\n",
    "I_i^§ \\text{Pr}(A_j(\\theta)=1) = I_j^* \\text{Pr}(A_i(\\theta)=1),\n",
    "$$\n",
    "\n",
    "which are the same since the equilibrium values are robust to AI investment misspecification (C3), and therefore the right hand side stays the same. Since $I_i^§ > 0$ the equation still holds, and from the threshold strategies, the two probabilities are equal, thus also $I_i^§ = I_j^*§*$, confirming the value of $r$ that is consistent with the equilibrium outcome is $r^* = r^§$."
   ]
  },
  {
   "cell_type": "markdown",
   "metadata": {},
   "source": [
    "# Open vs closed models {#sec-closedmodels}"
   ]
  },
  {
   "cell_type": "markdown",
   "metadata": {},
   "source": [
    "What is the influence, if any, of the possibility of investors to use exclusive, closed models to the equilibrium outcomes laid out above? This section relaxes the definition of $\\alpha$ to allow for the possibility that investors spend some money in the first period to acquire or develop such models."
   ]
  },
  {
   "cell_type": "markdown",
   "metadata": {},
   "source": [
    "Assume that the development of a closed-model entails a cost $C > 0$ whereas the use of a public-knowledge open model is free (consistent with real life). In this case, then investors would choose the closed-model if $\\alpha_i(R_i) > \\alpha(R_i)$ and the final net payoff would still be positive even with the safe. "
   ]
  },
  {
   "cell_type": "markdown",
   "metadata": {},
   "source": [
    "# Operational risks (eg, cyber disruptions and AI vendor dependence)"
   ]
  },
  {
   "cell_type": "markdown",
   "metadata": {},
   "source": [
    "Suppose now that $\\alpha$ has a small but nonzero chance of being set to zero during the investment stage. Such a scenario would be akin to an operational risk incident, such as a cyber attack. Building on financial supervisors' work on risks from third party service providers, such as AI providers,[^newsl] this section explores AI shutdown effects that are proportional to $\\rho$.\n",
    "\n",
    "[^newsl]: For example, the Basel Committee on Banking Supervision recently [-@bcbs2022tpsp] exorted banks to address risks related to concentration of third party service providers."
   ]
  },
  {
   "cell_type": "markdown",
   "metadata": {},
   "source": [
    "Take @eq-privatesignals, but now assume that $\\mu$ is a constant that always multiplies $\\alpha$. The constant goes to zero with probability $\\rho$, representing an operational incident."
   ]
  },
  {
   "cell_type": "markdown",
   "metadata": {},
   "source": [
    "# Preliminary considerations[^concl]\n",
    "\n",
    "AI is not simply a generic information technology. In addition to resource distribution considerations, introducing the use of AI to process information entails both an increase in precision (in line with existing information acquisition models), but also changes that reflect hallucinations and other silent mistakes and a chance for stochastic technology improvements that agents may expect to take place.\n",
    "\n",
    "The present model is simple but sufficiently rich to enable studies of important phenomena of interest at the intersection of AI and finance. For example, this model can help estimate the effects of hallucinations, operational risk issues, welfare implications from closed vs open models and others. \n",
    "\n",
    "The joint determination in equilibrium of AI investment in finance industry and academia, together with the levels and returns of financial investments, bear interesting results. This paper shows that the global game results in AI take-up that is consistent with the minimisation of private noise in expectation. This is an interesting result because the game-level result itself is the risk-dominant strategy, not the most efficient payoff-dominant.\n",
    "\n",
    "[^concl]: This section will become the conclusion section."
   ]
  },
  {
   "cell_type": "markdown",
   "metadata": {},
   "source": [
    "# Discussion"
   ]
  },
  {
   "cell_type": "markdown",
   "metadata": {},
   "source": [
    "The idea that the market might overreact to the knowledge about deployment of AI by firms is not new (@morris2002social). "
   ]
  },
  {
   "cell_type": "markdown",
   "metadata": {},
   "source": [
    "More broadly, this model extends the work of @szkup2015informationgg. That paper establishes important results with respect to the symmetric nature of the outcome of games that allow for information aquisition, and the relatively amenable conditions under which equilibrium is unique."
   ]
  },
  {
   "cell_type": "markdown",
   "metadata": {},
   "source": [
    "# References"
   ]
  },
  {
   "cell_type": "code",
   "execution_count": 1,
   "metadata": {},
   "outputs": [],
   "source": [
    "import matplotlib.pyplot as plt\n",
    "import numpy as np"
   ]
  },
  {
   "cell_type": "code",
   "execution_count": 10,
   "metadata": {},
   "outputs": [
    {
     "data": {
      "image/png": "[encoded data removed]",
      "text/plain": [
       "<Figure size 576x432 with 1 Axes>"
      ]
     },
     "metadata": {
      "needs_background": "light"
     },
     "output_type": "display_data"
    }
   ],
   "source": [
    "#| output: false\n",
    "def f(x, const):\n",
    "    return const * np.exp(x)\n",
    "\n",
    "# Generate x values from 0 to 2\n",
    "x = np.linspace(0, 10, 400)\n",
    "\n",
    "# Constant values\n",
    "constants = [0.5, 1, 5, 10]\n",
    "\n",
    "# Create the plot\n",
    "plt.figure(figsize=(8, 6))\n",
    "\n",
    "# Loop over constant values and plot each function\n",
    "for const in constants:\n",
    "    y = f(x, const)\n",
    "    plt.plot(x, y, label=f'const = {const}')\n",
    "\n",
    "# Add title and labels\n",
    "plt.title('Plot of f(x) = const * e^x for x >= 0 with different const values')\n",
    "plt.xlabel('x')\n",
    "plt.ylabel('f(x)')\n",
    "\n",
    "# Add a legend\n",
    "plt.legend()\n",
    "\n",
    "# Show the plot\n",
    "plt.show()"
   ]
  },
  {
   "cell_type": "markdown",
   "metadata": {},
   "source": []
  }
 ],
 "metadata": {
  "kernelspec": {
   "display_name": "Python 3.10.2 ('.venv_gingado')",
   "language": "python",
   "name": "python3"
  },
  "language_info": {
   "codemirror_mode": {
    "name": "ipython",
    "version": 3
   },
   "file_extension": ".py",
   "mimetype": "text/x-python",
   "name": "python",
   "nbconvert_exporter": "python",
   "pygments_lexer": "ipython3",
   "version": "3.10.2"
  },
  "orig_nbformat": 4,
  "vscode": {
   "interpreter": {
    "hash": "977c2d9435ad3a481cf1bbece8d5ecb19e078de55648a0a0bad32b79c2e18340"
   }
  }
 },
 "nbformat": 4,
 "nbformat_minor": 2
}
